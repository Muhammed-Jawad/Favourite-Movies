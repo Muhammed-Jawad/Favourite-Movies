{
 "cells": [
  {
   "cell_type": "code",
   "execution_count": 9,
   "metadata": {},
   "outputs": [],
   "source": [
    "import sqlite3\n",
    "\n",
    "conn = sqlite3.connect('movdb.db')\n",
    "\n",
    "c = conn.cursor()\n",
    "\n",
    "def create_table():\n",
    "    c.execute(\"\"\"CREATE TABLE IF NOT EXISTS Moviesdb(\n",
    "          Sr_no INTEGER, \n",
    "          Movie_name TEXT,\n",
    "          Actor_name TEXT,\n",
    "          Actress_name TEXT,\n",
    "          year_of_release INTEGER,\n",
    "          Director_name TEXT\n",
    "          )\n",
    "          \"\"\")\n",
    "    \n",
    "def table_entry():\n",
    "    \n",
    "    c.execute(\"INSERT INTO Moviesdb VALUES(1,'Roohi','Rajkummar Rao','Janhvi Kapoor',2021,'Hardik Mehta')\");\n",
    "    c.execute(\"INSERT INTO Moviesdb VALUES(2,'WAR','Hrithik Roshan','Vaani Kapoor',2019,'Siddharth Anand')\");\n",
    "    c.execute(\"INSERT INTO Moviesdb VALUES(3,'Sanju','Ranbir Kapoor','Sonam Kapoor',2018,'Rajkumar Hirani')\");\n",
    "    c.execute(\"INSERT INTO Moviesdb VALUES(4,'Kabir Singh','Shahid Kapoor','Kiara Advani',2019,'Sandeep Reddy Vanga')\");\n",
    "    c.execute(\"INSERT INTO Moviesdb VALUES(5,'Raees','Shah Rukh Khan','Mahira Khan',2017,'Rahul Dholakia')\");\n",
    "    c.execute(\"INSERT INTO Moviesdb VALUES(6,'Ae Dil Hai Mushkil','Ranbir Kapoor','Anushka Sharma',2016,'Karan Johar')\");\n",
    "    c.execute(\"INSERT INTO Moviesdb VALUES(7,'Tiger Zinda Hai','Salman Khan','Katrina Kaif',2017,'Ali Abbas Zafar')\");\n",
    "    c.execute(\"INSERT INTO Moviesdb VALUES(8,'Stree','Rajkummar Rao','Shraddha Kapoor',2018,'Amar Kaushik')\");\n",
    "    c.execute(\"INSERT INTO Moviesdb VALUES(9,'Badla','Amitabh Bachchan','Taapsee Pannu',2019,'Sujoy Ghosh')\");\n",
    "    c.execute(\"INSERT INTO Moviesdb VALUES(10,'Good Newwz','Akshay Kumar','Kareena Kapoor',2019,'Raj Mehta')\");\n",
    "    c.execute(\"INSERT INTO Moviesdb VALUES(11,'M.S. Dhoni','Sushant Singh Rajput','Kiara Advani',2016,'Neeraj Pandey')\");\n",
    "    c.execute(\"INSERT INTO Moviesdb VALUES(12,'PK','Aamir Khan','Anushka Sharma',2014,'Rajkumar Hirani')\");\n",
    "    c.execute(\"INSERT INTO Moviesdb VALUES(13,'3 Idiots','Aamir Khan','Kareena Kapoor',2009,'Rajkumar Hirani')\");\n",
    "    c.execute(\"INSERT INTO Moviesdb VALUES(14,'Student of the Year','Sidharth Malhotra','Alia Bhatt',2012,'Karan Johar')\");\n",
    "    c.execute(\"INSERT INTO Moviesdb VALUES(15,'Boss','Akshay Kumar','Aditi Rao Hydari',2013,'Anthony DSouza')\");\n",
    "\n",
    "conn.commit()\n",
    "\n",
    "create_table()\n",
    "table_entry()"
   ]
  },
  {
   "cell_type": "code",
   "execution_count": 13,
   "metadata": {},
   "outputs": [
    {
     "name": "stdout",
     "output_type": "stream",
     "text": [
      "Sr_no \t Movie_name \t Actor_name \t Actress_name \t year_of_release \t Director_name \n",
      "\n",
      "1 \t Roohi \t Rajkummar Rao \t Janhvi Kapoor \t 2021 \t Hardik Mehta \n",
      "\n",
      "2 \t WAR \t Hrithik Roshan \t Vaani Kapoor \t 2019 \t Siddharth Anand \n",
      "\n",
      "3 \t Sanju \t Ranbir Kapoor \t Sonam Kapoor \t 2018 \t Rajkumar Hirani \n",
      "\n",
      "4 \t Kabir Singh \t Shahid Kapoor \t Kiara Advani \t 2019 \t Sandeep Reddy Vanga \n",
      "\n",
      "5 \t Raees \t Shah Rukh Khan \t Mahira Khan \t 2017 \t Rahul Dholakia \n",
      "\n",
      "6 \t Ae Dil Hai Mushkil \t Ranbir Kapoor \t Anushka Sharma \t 2016 \t Karan Johar \n",
      "\n",
      "7 \t Tiger Zinda Hai \t Salman Khan \t Katrina Kaif \t 2017 \t Ali Abbas Zafar \n",
      "\n",
      "8 \t Stree \t Rajkummar Rao \t Shraddha Kapoor \t 2018 \t Amar Kaushik \n",
      "\n",
      "9 \t Badla \t Amitabh Bachchan \t Taapsee Pannu \t 2019 \t Sujoy Ghosh \n",
      "\n",
      "10 \t Good Newwz \t Akshay Kumar \t Kareena Kapoor \t 2019 \t Raj Mehta \n",
      "\n",
      "11 \t M.S. Dhoni \t Sushant Singh Rajput \t Kiara Advani \t 2016 \t Neeraj Pandey \n",
      "\n",
      "12 \t PK \t Aamir Khan \t Anushka Sharma \t 2014 \t Rajkumar Hirani \n",
      "\n",
      "13 \t 3 Idiots \t Aamir Khan \t Kareena Kapoor \t 2009 \t Rajkumar Hirani \n",
      "\n",
      "14 \t Student of the Year \t Sidharth Malhotra \t Alia Bhatt \t 2012 \t Karan Johar \n",
      "\n",
      "15 \t Boss \t Akshay Kumar \t Aditi Rao Hydari \t 2013 \t Anthony DSouza \n",
      "\n"
     ]
    }
   ],
   "source": [
    "print(\"Sr_no \\t Movie_name \\t Actor_name \\t Actress_name \\t year_of_release \\t Director_name \\n\")\n",
    "\n",
    "cursor = c.execute(\"SELECT * FROM Moviesdb\");\n",
    "\n",
    "for row in cursor:\n",
    "    print(row[0],\"\\t\",row[1],\"\\t\",row[2],\"\\t\",row[3],\"\\t\",row[4],\"\\t\", row[5],\"\\n\")\n",
    "\n",
    "conn.close()"
   ]
  },
  {
   "cell_type": "code",
   "execution_count": null,
   "metadata": {},
   "outputs": [],
   "source": []
  }
 ],
 "metadata": {
  "kernelspec": {
   "display_name": "Python 3",
   "language": "python",
   "name": "python3"
  },
  "language_info": {
   "codemirror_mode": {
    "name": "ipython",
    "version": 3
   },
   "file_extension": ".py",
   "mimetype": "text/x-python",
   "name": "python",
   "nbconvert_exporter": "python",
   "pygments_lexer": "ipython3",
   "version": "3.8.5"
  }
 },
 "nbformat": 4,
 "nbformat_minor": 4
}
